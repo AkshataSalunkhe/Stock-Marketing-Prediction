{
 "cells": [
  {
   "cell_type": "code",
   "execution_count": null,
   "metadata": {
    "application/vnd.databricks.v1+cell": {
     "cellMetadata": {
      "byteLimit": 2048000,
      "rowLimit": 10000
     },
     "inputWidgets": {},
     "nuid": "60ca50cf-9471-4dbc-8790-b0a8cb3de479",
     "showTitle": false,
     "title": ""
    }
   },
   "outputs": [],
   "source": [
    "from pyspark.sql import SparkSession\n",
    "from pyspark.sql.functions import col, to_date, lag\n",
    "from pyspark.sql.window import Window\n",
    "from pyspark.ml.feature import VectorAssembler\n",
    "from pyspark.ml.regression import RandomForestRegressor\n",
    "from pyspark.ml.evaluation import RegressionEvaluator"
   ]
  },
  {
   "cell_type": "code",
   "execution_count": null,
   "metadata": {
    "application/vnd.databricks.v1+cell": {
     "cellMetadata": {
      "byteLimit": 2048000,
      "rowLimit": 10000
     },
     "inputWidgets": {},
     "nuid": "6fa47cfe-106d-4436-b64b-2a235c227f1d",
     "showTitle": false,
     "title": ""
    }
   },
   "outputs": [],
   "source": [
    "spark = SparkSession.builder \\\n",
    "    .appName(\"StockPrediction\") \\\n",
    "    .getOrCreate()\n"
   ]
  },
  {
   "cell_type": "markdown",
   "metadata": {},
   "source": [
    "## Read CSV file for selected company"
   ]
  },
  {
   "cell_type": "code",
   "execution_count": null,
   "metadata": {
    "application/vnd.databricks.v1+cell": {
     "cellMetadata": {
      "byteLimit": 2048000,
      "rowLimit": 10000
     },
     "inputWidgets": {},
     "nuid": "87c685c0-aa60-40c8-8ab6-3d8f230de045",
     "showTitle": false,
     "title": ""
    }
   },
   "outputs": [],
   "source": [
    "# Read CSV into Spark DataFrame\n",
    "df = spark.read.format(\"csv\").option(\"header\", \"true\").load(\"/FileStore/tables/MSFT1.csv\")\n"
   ]
  },
  {
   "cell_type": "markdown",
   "metadata": {},
   "source": [
    "### Feature Engineering"
   ]
  },
  {
   "cell_type": "code",
   "execution_count": null,
   "metadata": {
    "application/vnd.databricks.v1+cell": {
     "cellMetadata": {
      "byteLimit": 2048000,
      "rowLimit": 10000
     },
     "inputWidgets": {},
     "nuid": "35db6ab1-2c68-4156-80d7-c1fe9dc40c2a",
     "showTitle": false,
     "title": ""
    }
   },
   "outputs": [],
   "source": [
    "# Select relevant columns and convert 'Date' column to date type\n",
    "df = df.select('Date', 'Close').withColumn('Date', to_date(col('Date')))\n",
    "\n",
    "# Define window size\n",
    "n = 3\n",
    "\n",
    "df = df.withColumn(\"Close\", col(\"Close\").cast(\"double\"))\n",
    "\n",
    "# Create a list of feature columns\n",
    "feature_cols = [f'Close_lag_{i}' for i in range(n, 0, -1)]\n",
    "\n",
    "# Add lagged features to DataFrame\n",
    "for i in range(n, 0, -1):\n",
    "    df = df.withColumn(f'Close_lag_{i}', lag('Close', i).over(Window.orderBy('Date')))\n",
    "\n",
    "# Drop rows with null values resulting from lag\n",
    "df = df.na.drop()"
   ]
  },
  {
   "cell_type": "code",
   "execution_count": null,
   "metadata": {
    "application/vnd.databricks.v1+cell": {
     "cellMetadata": {
      "byteLimit": 2048000,
      "rowLimit": 10000
     },
     "inputWidgets": {},
     "nuid": "fb32801f-23fd-4a01-8e7b-aab6d478eb7c",
     "showTitle": false,
     "title": ""
    }
   },
   "outputs": [
    {
     "name": "stdout",
     "output_type": "stream",
     "text": [
      "root\n",
      " |-- Date: date (nullable = true)\n",
      " |-- Close: double (nullable = true)\n",
      " |-- Close_lag_3: double (nullable = true)\n",
      " |-- Close_lag_2: double (nullable = true)\n",
      " |-- Close_lag_1: double (nullable = true)\n",
      "\n",
      "+----------+--------+-----------+-----------+-----------+\n",
      "|      Date|   Close|Close_lag_3|Close_lag_2|Close_lag_1|\n",
      "+----------+--------+-----------+-----------+-----------+\n",
      "|1986-03-18|0.099826|   0.097222|   0.100694|   0.102431|\n",
      "|1986-03-19| 0.09809|   0.100694|   0.102431|   0.099826|\n",
      "|1986-03-20|0.095486|   0.102431|   0.099826|    0.09809|\n",
      "|1986-03-21|0.092882|   0.099826|    0.09809|   0.095486|\n",
      "|1986-03-24|0.090278|    0.09809|   0.095486|   0.092882|\n",
      "|1986-03-25|0.092014|   0.095486|   0.092882|   0.090278|\n",
      "|1986-03-26|0.094618|   0.092882|   0.090278|   0.092014|\n",
      "|1986-03-27|0.096354|   0.090278|   0.092014|   0.094618|\n",
      "|1986-03-31|0.095486|   0.092014|   0.094618|   0.096354|\n",
      "|1986-04-01|0.094618|   0.094618|   0.096354|   0.095486|\n",
      "|1986-04-02|0.095486|   0.096354|   0.095486|   0.094618|\n",
      "|1986-04-03|0.096354|   0.095486|   0.094618|   0.095486|\n",
      "|1986-04-04|0.096354|   0.094618|   0.095486|   0.096354|\n",
      "|1986-04-07|0.094618|   0.095486|   0.096354|   0.096354|\n",
      "|1986-04-08|0.095486|   0.096354|   0.096354|   0.094618|\n",
      "|1986-04-09|0.097222|   0.096354|   0.094618|   0.095486|\n",
      "|1986-04-10| 0.09809|   0.094618|   0.095486|   0.097222|\n",
      "|1986-04-11|0.099826|   0.095486|   0.097222|    0.09809|\n",
      "|1986-04-14|0.100694|   0.097222|    0.09809|   0.099826|\n",
      "|1986-04-15|0.100694|    0.09809|   0.099826|   0.100694|\n",
      "+----------+--------+-----------+-----------+-----------+\n",
      "only showing top 20 rows\n",
      "\n",
      "+-------+------------------+-----------------+-----------------+-----------------+\n",
      "|summary|             Close|      Close_lag_3|      Close_lag_2|      Close_lag_1|\n",
      "+-------+------------------+-----------------+-----------------+-----------------+\n",
      "|  count|              9610|             9610|             9610|             9610|\n",
      "|   mean|56.120866292091456|55.99608589094682| 56.0371725485951|56.07856061331935|\n",
      "| stddev| 85.42758006446086|85.21706742631747|85.28527116607285|85.35460415697908|\n",
      "|    min|          0.090278|         0.090278|         0.090278|         0.090278|\n",
      "|    max|        429.369995|       429.369995|       429.369995|       429.369995|\n",
      "+-------+------------------+-----------------+-----------------+-----------------+\n",
      "\n"
     ]
    }
   ],
   "source": [
    "df.printSchema()\n",
    "df.show()\n",
    "\n",
    "# Summary statistics\n",
    "df.describe().show()\n",
    "\n",
    "# Perform SQL queries\n",
    "df.createOrReplaceTempView(\"stock_data\")"
   ]
  },
  {
   "cell_type": "markdown",
   "metadata": {},
   "source": [
    "### Data Exploration using pyspark.sql"
   ]
  },
  {
   "cell_type": "code",
   "execution_count": null,
   "metadata": {
    "application/vnd.databricks.v1+cell": {
     "cellMetadata": {
      "byteLimit": 2048000,
      "rowLimit": 10000
     },
     "inputWidgets": {},
     "nuid": "73f6f697-036c-46ec-979e-f3b8b06391bf",
     "showTitle": false,
     "title": ""
    }
   },
   "outputs": [
    {
     "name": "stdout",
     "output_type": "stream",
     "text": [
      "+----+-------------------+\n",
      "|Year|    Avg_Close_Price|\n",
      "+----+-------------------+\n",
      "|1986|0.11785693034825866|\n",
      "|1987| 0.3413173833992092|\n",
      "|1988| 0.3854235296442685|\n",
      "|1989| 0.4355400079365084|\n",
      "|1990|  0.864535304347826|\n",
      "|1991|  1.610387181818182|\n",
      "|1992| 2.5058851220472467|\n",
      "|1993| 2.6087421225296454|\n",
      "|1994| 3.2050163015873085|\n",
      "|1995|  5.190530658730163|\n",
      "|1996|  7.544214665354331|\n",
      "|1997|  15.11925656521742|\n",
      "|1998|  24.63092140079365|\n",
      "|1999|  43.76674107539683|\n",
      "|2000|  38.11024305555556|\n",
      "|2001|  31.27108743145162|\n",
      "|2002| 27.274523817460327|\n",
      "|2003| 26.101428599206344|\n",
      "|2004| 27.124761928571417|\n",
      "|2005|  25.87126988492064|\n",
      "+----+-------------------+\n",
      "only showing top 20 rows\n",
      "\n"
     ]
    }
   ],
   "source": [
    "#Find the average closing price for each year:\n",
    "query = \"\"\"\n",
    "    SELECT YEAR(Date) AS Year, AVG(Close) AS Avg_Close_Price\n",
    "    FROM stock_data\n",
    "    GROUP BY YEAR(Date)\n",
    "    ORDER BY Year\n",
    "\"\"\"\n",
    "spark.sql(query).show()"
   ]
  },
  {
   "cell_type": "code",
   "execution_count": null,
   "metadata": {
    "application/vnd.databricks.v1+cell": {
     "cellMetadata": {
      "byteLimit": 2048000,
      "rowLimit": 10000
     },
     "inputWidgets": {},
     "nuid": "7e2343a0-67be-4fe5-8a2a-e92bb87130e3",
     "showTitle": false,
     "title": ""
    }
   },
   "outputs": [
    {
     "name": "stdout",
     "output_type": "stream",
     "text": [
      "+----+-----+------------------+\n",
      "|Year|Month|      Total_Volume|\n",
      "+----+-----+------------------+\n",
      "|1986|    3|          0.861979|\n",
      "|1986|    4|2.2374120000000004|\n",
      "|1986|    5|          2.326388|\n",
      "|1986|    6|2.3528669999999994|\n",
      "|1986|    7|2.2625889999999997|\n",
      "|1986|    8|          2.126305|\n",
      "|1986|    9|          2.129775|\n",
      "|1986|   10|           2.74045|\n",
      "|1986|   11|2.8936630000000005|\n",
      "|1986|   12|          3.692711|\n",
      "+----+-----+------------------+\n",
      "\n"
     ]
    }
   ],
   "source": [
    "#Calculate the total volume traded for each month in 1986:\n",
    "query = \"\"\"\n",
    "    SELECT YEAR(Date) AS Year, MONTH(Date) AS Month, SUM(Close_lag_1) AS Total_Volume\n",
    "    FROM stock_data\n",
    "    WHERE YEAR(Date) = 1986\n",
    "    GROUP BY YEAR(Date), MONTH(Date)\n",
    "    ORDER BY Year, Month\n",
    "\"\"\"\n",
    "spark.sql(query).show()"
   ]
  },
  {
   "cell_type": "code",
   "execution_count": null,
   "metadata": {
    "application/vnd.databricks.v1+cell": {
     "cellMetadata": {
      "byteLimit": 2048000,
      "rowLimit": 10000
     },
     "inputWidgets": {},
     "nuid": "fdbd53dc-f1c0-4119-a8a8-4397145df2c3",
     "showTitle": false,
     "title": ""
    }
   },
   "outputs": [
    {
     "name": "stdout",
     "output_type": "stream",
     "text": [
      "+----------+-----------+\n",
      "|      Date|Close_lag_1|\n",
      "+----------+-----------+\n",
      "|2024-03-22| 429.369995|\n",
      "|2024-03-25|  428.73999|\n",
      "|2024-04-12| 427.929993|\n",
      "|2024-04-10| 426.279999|\n",
      "|2024-04-08| 425.519989|\n",
      "+----------+-----------+\n",
      "\n"
     ]
    }
   ],
   "source": [
    "#Identify the top 5 days with the highest trading volume:\n",
    "query = \"\"\"\n",
    "    SELECT Date, Close_lag_1\n",
    "    FROM stock_data\n",
    "    ORDER BY Close_lag_1 DESC\n",
    "    LIMIT 5\n",
    "\"\"\"\n",
    "spark.sql(query).show()"
   ]
  },
  {
   "cell_type": "code",
   "execution_count": null,
   "metadata": {
    "application/vnd.databricks.v1+cell": {
     "cellMetadata": {
      "byteLimit": 2048000,
      "rowLimit": 10000
     },
     "inputWidgets": {},
     "nuid": "7bdf8f73-ff2a-4ab2-9e9e-404a8342a874",
     "showTitle": false,
     "title": ""
    }
   },
   "outputs": [
    {
     "name": "stdout",
     "output_type": "stream",
     "text": [
      "+----------+--------+----------+-------------------+\n",
      "|      Date|   Close|Prev_Close|     Percent_Change|\n",
      "+----------+--------+----------+-------------------+\n",
      "|1986-03-18|0.099826|      null|               null|\n",
      "|1986-03-19| 0.09809|  0.099826|-1.7390259050748318|\n",
      "|1986-03-20|0.095486|   0.09809| -2.654704862881023|\n",
      "|1986-03-21|0.092882|  0.095486| -2.727101355172481|\n",
      "|1986-03-24|0.090278|  0.092882|-2.8035572016106554|\n",
      "|1986-03-25|0.092014|  0.090278| 1.9229491127406473|\n",
      "|1986-03-26|0.094618|  0.092014| 2.8300041298063285|\n",
      "|1986-03-27|0.096354|  0.094618| 1.8347460314105155|\n",
      "|1986-03-31|0.095486|  0.096354|-0.9008448014612718|\n",
      "|1986-04-01|0.094618|  0.095486|-0.9090337850575033|\n",
      "|1986-04-02|0.095486|  0.094618|  0.917373015705265|\n",
      "|1986-04-03|0.096354|  0.095486| 0.9090337850574889|\n",
      "|1986-04-04|0.096354|  0.096354|                0.0|\n",
      "|1986-04-07|0.094618|  0.096354|-1.8016896029225582|\n",
      "|1986-04-08|0.095486|  0.094618|  0.917373015705265|\n",
      "|1986-04-09|0.097222|  0.095486| 1.8180675701149922|\n",
      "|1986-04-10| 0.09809|  0.097222| 0.8928020406903723|\n",
      "|1986-04-11|0.099826|   0.09809| 1.7698032419206866|\n",
      "|1986-04-14|0.100694|  0.099826| 0.8695129525374228|\n",
      "|1986-04-15|0.100694|  0.100694|                0.0|\n",
      "+----------+--------+----------+-------------------+\n",
      "only showing top 20 rows\n",
      "\n"
     ]
    }
   ],
   "source": [
    "# Calculate the percentage change in closing price from the previous day:\n",
    "query = \"\"\"\n",
    "    SELECT Date, Close, LAG(Close) OVER (ORDER BY Date) AS Prev_Close,\n",
    "    ((Close - LAG(Close) OVER (ORDER BY Date)) / LAG(Close) OVER (ORDER BY Date)) * 100 AS Percent_Change\n",
    "    FROM stock_data\n",
    "    ORDER BY Date\n",
    "\"\"\"\n",
    "spark.sql(query).show()"
   ]
  },
  {
   "cell_type": "markdown",
   "metadata": {},
   "source": [
    "### Data Visualization for imported data"
   ]
  },
  {
   "cell_type": "code",
   "execution_count": null,
   "metadata": {
    "application/vnd.databricks.v1+cell": {
     "cellMetadata": {
      "byteLimit": 2048000,
      "rowLimit": 10000
     },
     "inputWidgets": {},
     "nuid": "d206defb-bd73-482f-aeeb-984bfc7d2867",
     "showTitle": false,
     "title": ""
    }
   },
   "outputs": [
    {
     "data": {
      "image/png": "[encoded data removed]"
     },
     "metadata": {
      "application/vnd.databricks.v1+output": {
       "addedWidgets": {},
       "arguments": {},
       "data": "data:image/png;base64,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\n",
       "datasetInfos": [],
       "metadata": {},
       "removedWidgets": [],
       "type": "image"
      }
     },
     "output_type": "display_data"
    }
   ],
   "source": [
    "import matplotlib.pyplot as plt\n",
    "pandas_df = df.toPandas()\n",
    "\n",
    "# Plot 'Close' column using Matplotlib\n",
    "plt.plot(pandas_df['Date'], pandas_df['Close'])\n",
    "plt.xlabel('Date')\n",
    "plt.ylabel('Close Price')\n",
    "plt.title('Stock Close Price Over Time')\n",
    "plt.show()\n"
   ]
  },
  {
   "cell_type": "markdown",
   "metadata": {},
   "source": [
    "### ML Model Building"
   ]
  },
  {
   "cell_type": "code",
   "execution_count": null,
   "metadata": {
    "application/vnd.databricks.v1+cell": {
     "cellMetadata": {
      "byteLimit": 2048000,
      "rowLimit": 10000
     },
     "inputWidgets": {},
     "nuid": "ad7dcd97-d4a2-4179-87de-509e40f7135e",
     "showTitle": false,
     "title": ""
    }
   },
   "outputs": [],
   "source": [
    "# Define assembler to combine feature columns into a single vector\n",
    "assembler = VectorAssembler(inputCols=feature_cols, outputCol=\"features\")\n",
    "\n",
    "# Apply assembler to create features column\n",
    "df = assembler.transform(df)\n",
    "\n",
    "# Split data into train, validation, and test sets\n",
    "train_df, val_df, test_df = df.randomSplit([0.8, 0.1, 0.1], seed=42)"
   ]
  },
  {
   "cell_type": "markdown",
   "metadata": {},
   "source": [
    "### 1. Random Forest Regression"
   ]
  },
  {
   "cell_type": "code",
   "execution_count": null,
   "metadata": {
    "application/vnd.databricks.v1+cell": {
     "cellMetadata": {
      "byteLimit": 2048000,
      "rowLimit": 10000
     },
     "inputWidgets": {},
     "nuid": "e7e6f4be-4663-4a74-9aa3-e8e98af21131",
     "showTitle": false,
     "title": ""
    }
   },
   "outputs": [],
   "source": [
    "# Train Random Forest model\n",
    "rf = RandomForestRegressor(featuresCol=\"features\", labelCol=\"Close\", seed=42)\n",
    "rf_model = rf.fit(train_df)\n",
    "\n",
    "# Make predictions on validation set\n",
    "val_predictions = rf_model.transform(val_df)"
   ]
  },
  {
   "cell_type": "code",
   "execution_count": null,
   "metadata": {
    "application/vnd.databricks.v1+cell": {
     "cellMetadata": {
      "byteLimit": 2048000,
      "rowLimit": 10000
     },
     "inputWidgets": {},
     "nuid": "73c4bcfd-9045-490a-8780-f3b50e298756",
     "showTitle": false,
     "title": ""
    }
   },
   "outputs": [
    {
     "name": "stdout",
     "output_type": "stream",
     "text": [
      "Root Mean Squared Error (RMSE) on validation data: 8.668865263089016\n"
     ]
    }
   ],
   "source": [
    "# Evaluate model performance on validation set\n",
    "evaluator = RegressionEvaluator(labelCol=\"Close\", predictionCol=\"prediction\", metricName=\"rmse\")\n",
    "rmse = evaluator.evaluate(val_predictions)\n",
    "print(f\"Root Mean Squared Error (RMSE) on validation data: {rmse}\")"
   ]
  },
  {
   "cell_type": "code",
   "execution_count": null,
   "metadata": {
    "application/vnd.databricks.v1+cell": {
     "cellMetadata": {
      "byteLimit": 2048000,
      "rowLimit": 10000
     },
     "inputWidgets": {},
     "nuid": "cbf59470-528c-4fb2-ae71-405fdcb6d7d4",
     "showTitle": false,
     "title": ""
    }
   },
   "outputs": [],
   "source": [
    "# Make predictions on test set\n",
    "rf_test_predictions = rf_model.transform(test_df)"
   ]
  },
  {
   "cell_type": "code",
   "execution_count": null,
   "metadata": {
    "application/vnd.databricks.v1+cell": {
     "cellMetadata": {
      "byteLimit": 2048000,
      "rowLimit": 10000
     },
     "inputWidgets": {},
     "nuid": "0ab7ad3d-df9f-4135-9388-78a84bb69873",
     "showTitle": false,
     "title": ""
    }
   },
   "outputs": [
    {
     "name": "stdout",
     "output_type": "stream",
     "text": [
      "Root Mean Squared Error (RMSE) on test data: 8.432635835838122\n"
     ]
    }
   ],
   "source": [
    "# Evaluate model performance on test set\n",
    "evaluator = RegressionEvaluator(labelCol=\"Close\", predictionCol=\"prediction\", metricName=\"rmse\")\n",
    "rf_rmse = evaluator.evaluate(rf_test_predictions)\n",
    "print(f\"Root Mean Squared Error (RMSE) on test data: {rf_rmse}\")"
   ]
  },
  {
   "cell_type": "code",
   "execution_count": null,
   "metadata": {
    "application/vnd.databricks.v1+cell": {
     "cellMetadata": {
      "byteLimit": 2048000,
      "rowLimit": 10000
     },
     "inputWidgets": {},
     "nuid": "f953b543-2976-4dfc-bb28-c6d93b07903e",
     "showTitle": false,
     "title": ""
    }
   },
   "outputs": [
    {
     "name": "stdout",
     "output_type": "stream",
     "text": [
      "MAE: 3.8424694657278446\n",
      "R2: 0.9884220038341154\n"
     ]
    }
   ],
   "source": [
    "# Compute other metrics: Mean Absolute Error (MAE) and R-squared (R2)\n",
    "for metric in [\"mae\", \"r2\"]:\n",
    "    evaluator = RegressionEvaluator(labelCol=\"Close\", predictionCol=\"prediction\", metricName=metric)\n",
    "    value = evaluator.evaluate(rf_test_predictions)\n",
    "    print(f\"{metric.upper()}: {value}\")"
   ]
  },
  {
   "cell_type": "code",
   "execution_count": null,
   "metadata": {
    "application/vnd.databricks.v1+cell": {
     "cellMetadata": {
      "byteLimit": 2048000,
      "rowLimit": 10000
     },
     "inputWidgets": {},
     "nuid": "f406c48c-3469-4a5f-826e-d43447be0109",
     "showTitle": false,
     "title": ""
    }
   },
   "outputs": [
    {
     "name": "stdout",
     "output_type": "stream",
     "text": [
      "+----------+----------+------------------+\n",
      "|      Date|     Close|        prediction|\n",
      "+----------+----------+------------------+\n",
      "|2024-05-03|406.660004|360.07100200201234|\n",
      "+----------+----------+------------------+\n",
      "\n"
     ]
    }
   ],
   "source": [
    "# Assuming you want to predict stock price on a specific date\n",
    "specific_date = \"2024-05-03\"\n",
    "specific_data = df.filter(col(\"Date\") == specific_date)\n",
    "\n",
    "# Make predictions on the specific date\n",
    "specific_predictions = rf_model.transform(specific_data)\n",
    "\n",
    "# Display the predictions\n",
    "specific_predictions.select(\"Date\", \"Close\", \"prediction\").show()"
   ]
  },
  {
   "cell_type": "code",
   "execution_count": null,
   "metadata": {
    "application/vnd.databricks.v1+cell": {
     "cellMetadata": {
      "byteLimit": 2048000,
      "rowLimit": 10000
     },
     "inputWidgets": {},
     "nuid": "3de7409a-15fe-47c9-a693-ba3887ed1934",
     "showTitle": false,
     "title": ""
    }
   },
   "outputs": [
    {
     "data": {
      "image/png": "[encoded data removed]"
     },
     "metadata": {
      "application/vnd.databricks.v1+output": {
       "addedWidgets": {},
       "arguments": {},
       "data": "data:image/png;base64,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\n",
       "datasetInfos": [],
       "metadata": {},
       "removedWidgets": [],
       "type": "image"
      }
     },
     "output_type": "display_data"
    }
   ],
   "source": [
    "# Visualization\n",
    "# Plot the actual vs predicted values for adjusted closing prices\n",
    "preds = rf_test_predictions.select(\"Close\", \"prediction\").toPandas()\n",
    "plt.figure(figsize=(12, 6))\n",
    "plt.plot(preds[\"Close\"], label='Actual', color='blue')\n",
    "plt.plot(preds[\"prediction\"], label='Predicted', color='red', alpha=0.6)\n",
    "plt.title('Actual vs Predicted Closing Prices')\n",
    "plt.xlabel('Days')\n",
    "plt.ylabel('Closing Price')\n",
    "plt.legend()\n",
    "plt.show()"
   ]
  },
  {
   "cell_type": "markdown",
   "metadata": {},
   "source": [
    "### 2. Gradient Boost Regression"
   ]
  },
  {
   "cell_type": "code",
   "execution_count": null,
   "metadata": {
    "application/vnd.databricks.v1+cell": {
     "cellMetadata": {
      "byteLimit": 2048000,
      "rowLimit": 10000
     },
     "inputWidgets": {},
     "nuid": "5b0ff4af-3432-4768-99e8-df200bd7e87f",
     "showTitle": false,
     "title": ""
    }
   },
   "outputs": [],
   "source": [
    "#Applying Gradient booster \n",
    "from pyspark.ml.regression import GBTRegressor\n",
    "\n",
    "# Train Gradient Boosted Trees model\n",
    "gbt = GBTRegressor(featuresCol=\"features\", labelCol=\"Close\")\n",
    "gbt_model = gbt.fit(train_df)"
   ]
  },
  {
   "cell_type": "code",
   "execution_count": null,
   "metadata": {
    "application/vnd.databricks.v1+cell": {
     "cellMetadata": {
      "byteLimit": 2048000,
      "rowLimit": 10000
     },
     "inputWidgets": {},
     "nuid": "9b21f03c-669e-4817-9c2a-7d2ceea9c27f",
     "showTitle": false,
     "title": ""
    }
   },
   "outputs": [],
   "source": [
    "# Make predictions on test set\n",
    "gbt_test_predictions = gbt_model.transform(test_df)"
   ]
  },
  {
   "cell_type": "code",
   "execution_count": null,
   "metadata": {
    "application/vnd.databricks.v1+cell": {
     "cellMetadata": {
      "byteLimit": 2048000,
      "rowLimit": 10000
     },
     "inputWidgets": {},
     "nuid": "b15dfba1-6955-44b2-8482-e6094c7b54e0",
     "showTitle": false,
     "title": ""
    }
   },
   "outputs": [
    {
     "name": "stdout",
     "output_type": "stream",
     "text": [
      "Root Mean Squared Error (RMSE) on test data: 8.366385217850503\n"
     ]
    }
   ],
   "source": [
    "# Evaluate model performance on test set\n",
    "evaluator = RegressionEvaluator(labelCol=\"Close\", predictionCol=\"prediction\", metricName=\"rmse\")\n",
    "gbt_rmse = evaluator.evaluate(gbt_test_predictions)\n",
    "print(f\"Root Mean Squared Error (RMSE) on test data: {gbt_rmse}\")"
   ]
  },
  {
   "cell_type": "markdown",
   "metadata": {},
   "source": [
    "### 3. Linear Regression"
   ]
  },
  {
   "cell_type": "code",
   "execution_count": null,
   "metadata": {
    "application/vnd.databricks.v1+cell": {
     "cellMetadata": {
      "byteLimit": 2048000,
      "rowLimit": 10000
     },
     "inputWidgets": {},
     "nuid": "d865acc7-4866-4818-a9dd-4ff2c6aa78e7",
     "showTitle": false,
     "title": ""
    }
   },
   "outputs": [],
   "source": [
    "from pyspark.ml.regression import LinearRegression\n",
    "\n",
    "# Train Linear Regression model\n",
    "lr = LinearRegression(featuresCol=\"features\", labelCol=\"Close\")\n",
    "lr_model = lr.fit(train_df)"
   ]
  },
  {
   "cell_type": "code",
   "execution_count": null,
   "metadata": {
    "application/vnd.databricks.v1+cell": {
     "cellMetadata": {
      "byteLimit": 2048000,
      "rowLimit": 10000
     },
     "inputWidgets": {},
     "nuid": "de9590df-9e7a-4e2a-a877-f09c225c4125",
     "showTitle": false,
     "title": ""
    }
   },
   "outputs": [],
   "source": [
    "lr_test_predictions = lr_model.transform(test_df)"
   ]
  },
  {
   "cell_type": "code",
   "execution_count": null,
   "metadata": {
    "application/vnd.databricks.v1+cell": {
     "cellMetadata": {
      "byteLimit": 2048000,
      "rowLimit": 10000
     },
     "inputWidgets": {},
     "nuid": "ef5b5f96-eb8b-4813-9843-4a30f8a6ce8f",
     "showTitle": false,
     "title": ""
    }
   },
   "outputs": [
    {
     "name": "stdout",
     "output_type": "stream",
     "text": [
      "Root Mean Squared Error (RMSE) on test data: 1.7040430331486127\n"
     ]
    }
   ],
   "source": [
    "# Evaluate model performance on test set\n",
    "evaluator = RegressionEvaluator(labelCol=\"Close\", predictionCol=\"prediction\", metricName=\"rmse\")\n",
    "lr_rmse = evaluator.evaluate(lr_test_predictions)\n",
    "print(f\"Root Mean Squared Error (RMSE) on test data: {lr_rmse}\")\n"
   ]
  },
  {
   "cell_type": "markdown",
   "metadata": {},
   "source": [
    "### Comparion between models RMSE value "
   ]
  },
  {
   "cell_type": "code",
   "execution_count": null,
   "metadata": {
    "application/vnd.databricks.v1+cell": {
     "cellMetadata": {
      "byteLimit": 2048000,
      "rowLimit": 10000
     },
     "inputWidgets": {},
     "nuid": "a3ec6a21-389b-4368-870d-85d794847252",
     "showTitle": false,
     "title": ""
    }
   },
   "outputs": [
    {
     "name": "stdout",
     "output_type": "stream",
     "text": [
      "Linear Regression: 1.7040430331486127\n",
      "Random Forest: 8.432635835838122\n",
      "Gradient Boosted trees: 8.366385217850503\n"
     ]
    }
   ],
   "source": [
    "print(f\"Linear Regression: {lr_rmse}\")\n",
    "print(f\"Random Forest: {rf_rmse}\")\n",
    "print(f\"Gradient Boosted trees: {gbt_rmse}\")"
   ]
  },
  {
   "cell_type": "markdown",
   "metadata": {},
   "source": [
    "### SARAMI Model "
   ]
  },
  {
   "cell_type": "code",
   "execution_count": null,
   "metadata": {
    "application/vnd.databricks.v1+cell": {
     "cellMetadata": {
      "byteLimit": 2048000,
      "rowLimit": 10000
     },
     "inputWidgets": {},
     "nuid": "89554265-bbe4-4425-991c-8623b838a94f",
     "showTitle": false,
     "title": ""
    }
   },
   "outputs": [],
   "source": [
    "import statsmodels.api as sm"
   ]
  },
  {
   "cell_type": "code",
   "execution_count": null,
   "metadata": {
    "application/vnd.databricks.v1+cell": {
     "cellMetadata": {
      "byteLimit": 2048000,
      "rowLimit": 10000
     },
     "inputWidgets": {},
     "nuid": "acb25333-8971-4057-a3f9-efcf5b91633b",
     "showTitle": false,
     "title": ""
    }
   },
   "outputs": [],
   "source": [
    "# Fit Seasonal ARIMA model\n",
    "# Specify order and seasonal_order parameters based on data analysis\n",
    "order = (2, 1, 2)  # Example order parameters\n",
    "seasonal_order = (1, 1, 1, 12)  # Example seasonal_order parameters\n",
    "model = sm.tsa.SARIMAX(pandas_df['Close'], order=order, seasonal_order=seasonal_order)\n",
    "arima_model = model.fit()\n",
    "\n",
    "# Make predictions on validation set\n",
    "val_predictions = arima_model.forecast(steps=len(val_df.collect()))"
   ]
  },
  {
   "cell_type": "code",
   "execution_count": null,
   "metadata": {
    "application/vnd.databricks.v1+cell": {
     "cellMetadata": {
      "byteLimit": 2048000,
      "rowLimit": 10000
     },
     "inputWidgets": {},
     "nuid": "f7c9c9bc-13c2-47a8-932e-b707ad8e2928",
     "showTitle": false,
     "title": ""
    }
   },
   "outputs": [
    {
     "name": "stdout",
     "output_type": "stream",
     "text": [
      "Root Mean Squared Error (RMSE) on test data: 401.81806764849665\n"
     ]
    }
   ],
   "source": [
    "import numpy as np\n",
    "from sklearn.metrics import mean_squared_error\n",
    "# Make predictions on test set\n",
    "test_predictions = sarima_model.forecast(steps=len(test_df.collect()))\n",
    "\n",
    "# Convert test predictions to Pandas DataFrame\n",
    "test_predictions_df = pd.DataFrame(test_predictions, columns=['Predicted_Close'])\n",
    "\n",
    "# Extract actual closing prices from the test DataFrame\n",
    "actual_close = test_df.select('Close').collect()\n",
    "\n",
    "# Calculate RMSE for test data\n",
    "test_rmse = np.sqrt(mean_squared_error(actual_close, test_predictions))\n",
    "\n",
    "# Print RMSE for test data\n",
    "print(\"Root Mean Squared Error (RMSE) on test data:\", test_rmse)"
   ]
  },
  {
   "cell_type": "code",
   "execution_count": null,
   "metadata": {
    "application/vnd.databricks.v1+cell": {
     "cellMetadata": {},
     "inputWidgets": {},
     "nuid": "f2fce9a2-954c-4d47-b5f5-8c5bdac85869",
     "showTitle": false,
     "title": ""
    }
   },
   "outputs": [],
   "source": []
  }
 ],
 "metadata": {
  "application/vnd.databricks.v1+notebook": {
   "dashboards": [],
   "language": "python",
   "notebookMetadata": {
    "pythonIndentUnit": 4
   },
   "notebookName": "Untitled Notebook 2024-05-05 20:50:04",
   "widgets": {}
  },
  "language_info": {
   "name": "python"
  }
 },
 "nbformat": 4,
 "nbformat_minor": 0
}
